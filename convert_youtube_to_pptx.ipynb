{
  "nbformat": 4,
  "nbformat_minor": 0,
  "metadata": {
    "colab": {
      "provenance": [],
      "authorship_tag": "ABX9TyNYc61RnrEy/K0odCZsmIk7",
      "include_colab_link": true
    },
    "kernelspec": {
      "name": "python3",
      "display_name": "Python 3"
    },
    "language_info": {
      "name": "python"
    }
  },
  "cells": [
    {
      "cell_type": "markdown",
      "metadata": {
        "id": "view-in-github",
        "colab_type": "text"
      },
      "source": [
        "<a href=\"https://colab.research.google.com/github/Ruqyai/Convert-YouTube-to-PPTX/blob/main/convert_youtube_to_pptx.ipynb\" target=\"_parent\"><img src=\"https://colab.research.google.com/assets/colab-badge.svg\" alt=\"Open In Colab\"/></a>"
      ]
    },
    {
      "cell_type": "code",
      "source": [
        "%%bash\n",
        "sudo apt-get update\n",
        "sudo apt-get install tesseract-ocr\n",
        "sudo apt-get install libtesseract-dev\n",
        "pip install pytube\n",
        "pip install pytesseract\n",
        "pip install python-pptx\n",
        "pip install reportlab\n"
      ],
      "metadata": {
        "id": "voYphb11K3hJ"
      },
      "execution_count": null,
      "outputs": []
    },
    {
      "cell_type": "code",
      "source": [
        "from pytube import YouTube\n",
        "import cv2\n",
        "import pytesseract\n",
        "from PIL import Image\n",
        "from pptx import Presentation\n",
        "from reportlab.lib.pagesizes import letter\n",
        "from reportlab.pdfgen import canvas\n",
        "import os"
      ],
      "metadata": {
        "id": "g32Ekvoe206S"
      },
      "execution_count": null,
      "outputs": []
    },
    {
      "cell_type": "code",
      "source": [
        "# Download YouTube video\n",
        "video_url = \"https://youtu.be/..\"\n",
        "youtube = YouTube(video_url)\n",
        "video_stream = youtube.streams.get_highest_resolution()\n",
        "video_path = 'videos/video.mp4'\n",
        "video_stream.download(output_path='videos', filename='video.mp4')"
      ],
      "metadata": {
        "id": "AxlO_lC226WJ"
      },
      "execution_count": null,
      "outputs": []
    },
    {
      "cell_type": "code",
      "source": [
        "# Create the 'frames' directory if it doesn't exist\n",
        "os.makedirs('frames', exist_ok=True)\n",
        "\n",
        "# Create a VideoCapture object\n",
        "cap = cv2.VideoCapture(video_path)\n",
        "frame_count = 0\n",
        "\n",
        "# Create a PowerPoint presentation\n",
        "ppt = Presentation()\n",
        "\n",
        "\n",
        "while cap.isOpened():\n",
        "    ret, frame = cap.read()\n",
        "    if not ret:\n",
        "      break\n",
        "    frame_count += 1\n",
        "    image_path = f'frames/frame_{frame_count}.png'\n",
        "    cv2.imwrite(image_path, frame)\n",
        "\n",
        "    # Perform OCR on the image\n",
        "    image = Image.open(image_path)\n",
        "    text = pytesseract.image_to_string(image)\n",
        "\n",
        "    # Create a new slide\n",
        "    slide = ppt.slides.add_slide(ppt.slide_layouts[5])\n",
        "\n",
        "    # Add image to the slide\n",
        "    left = top = 0  # You might need to adjust these coordinates\n",
        "    pic = slide.shapes.add_picture(image_path, left, top, height=ppt.slide_height)\n",
        "\n",
        "    # Add extracted text to the slide\n",
        "    left_text = 0  # You might need to adjust this coordinate\n",
        "    top_text = pic.top + pic.height + 10  # Adjust the vertical distance from the image\n",
        "    text_box = slide.shapes.add_textbox(left_text, top_text, pic.width, 100)\n",
        "    text_frame = text_box.text_frame\n",
        "    text_frame.text = text\n",
        "\n",
        "cap.release()\n"
      ],
      "metadata": {
        "id": "E5561CdYKF64"
      },
      "execution_count": null,
      "outputs": []
    },
    {
      "cell_type": "code",
      "source": [
        "# Save the PowerPoint presentation\n",
        "ppt.save('output.pptx')\n",
        "ppt.save('output.pdf')\n"
      ],
      "metadata": {
        "id": "go_Sq1ZgTqRo"
      },
      "execution_count": null,
      "outputs": []
    }
  ]
}